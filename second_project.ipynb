{
 "cells": [
  {
   "cell_type": "markdown",
   "id": "38e4b5e8-2efd-43ed-8c75-64e33d8ad5fc",
   "metadata": {},
   "source": [
    "# Real-world Data Wrangling"
   ]
  },
  {
   "cell_type": "markdown",
   "id": "6bd1a15e-4a34-4f1b-9fe6-337643ebd245",
   "metadata": {},
   "source": [
    "### Problem Statement\n",
    "The aim of this project is to gather job listing data for Data Scientist positions in New York City\n",
    "from two different sources, clean the data, combine it, and perform exploratory data analysis to\n",
    "answer the research question: \"Which companies are hiring the most Data Scientists in New York City?\"\n"
   ]
  },
  {
   "cell_type": "code",
   "execution_count": null,
   "id": "4a990ccf-a00a-4331-bada-6c94799ec685",
   "metadata": {},
   "outputs": [],
   "source": [
    "#Install necessary libraries\n",
    "!pip install pandas\n",
    "!pip install matplotlib\n",
    "!pip install selenium\n",
    "!pip install webdriver-manager\n",
    "!pip install beautifulsoup4\n",
    "!pip install requests\n"
   ]
  },
  {
   "cell_type": "code",
   "execution_count": 17,
   "id": "fdebf5a5-0704-47e7-a41a-d0bafa3cf734",
   "metadata": {},
   "outputs": [],
   "source": [
    "#Import necessary libraries\n",
    "import pandas as pd\n",
    "import matplotlib.pyplot as plt\n",
    "from selenium import webdriver\n",
    "from selenium.webdriver.chrome.service import Service as ChromeService\n",
    "from selenium.webdriver.common.by import By\n",
    "from selenium.webdriver.chrome.options import Options\n",
    "from webdriver_manager.chrome import ChromeDriverManager\n",
    "from bs4 import BeautifulSoup\n",
    "import requests\n",
    "import time"
   ]
  },
  {
   "cell_type": "markdown",
   "id": "55266065-f534-4865-9a94-870b5dfb38a4",
   "metadata": {},
   "source": [
    "#### Dataset 1 (fetch job listings from Indeed website) "
   ]
  },
  {
   "cell_type": "code",
   "execution_count": 18,
   "id": "92ea0643-1151-4abe-8ea8-4cd6da35273a",
   "metadata": {},
   "outputs": [
    {
     "name": "stdout",
     "output_type": "stream",
     "text": [
      "No more pages to fetch\n",
      "                                   title  \\\n",
      "0             Data Scientist, Amazon Ads   \n",
      "1      Data Scientist, Llama Scalability   \n",
      "2  Data Scientist - Marketing Mix Models   \n",
      "3                   Staff Data Scientist   \n",
      "4                  Senior Data Scientist   \n",
      "\n",
      "                                 company  \\\n",
      "0                Amazon.com Services LLC   \n",
      "1                                   Meta   \n",
      "2                                Verizon   \n",
      "3                 Warner Bros. Discovery   \n",
      "4  Metropolitan Transportation Authority   \n",
      "\n",
      "                                       location  \n",
      "0                                  New York, NY  \n",
      "1                                  New York, NY  \n",
      "2                   Hybrid work in New York, NY  \n",
      "3             New York, NY 10001 (Chelsea area)  \n",
      "4  New York, NY 10004 (Financial District area)  \n"
     ]
    }
   ],
   "source": [
    "# Function to fetch job listings from Indeed using Selenium with pagination\n",
    "def fetch_job_listings(url):\n",
    "    options = Options()\n",
    "    options.headless = True\n",
    "    driver = webdriver.Chrome(service=ChromeService(ChromeDriverManager().install()), options=options)\n",
    "    driver.get(url)\n",
    "    driver.implicitly_wait(10)  # Wait for dynamic content to load\n",
    "\n",
    "    all_html_content = []\n",
    "    while True:\n",
    "        html_content = driver.page_source\n",
    "        all_html_content.append(html_content)\n",
    "        \n",
    "        # Find and click the \"Next\" button\n",
    "        try:\n",
    "            next_button = driver.find_element(By.CSS_SELECTOR, 'a[aria-label=\"Next Page\"]')\n",
    "            if next_button.is_enabled():\n",
    "                next_button.click()\n",
    "                time.sleep(3)  # Wait for the next page to load\n",
    "            else:\n",
    "                break\n",
    "        except Exception as e:\n",
    "            print(\"No more pages to fetch\")\n",
    "            break\n",
    "    \n",
    "    driver.quit()\n",
    "    return all_html_content\n",
    "\n",
    "# Function to parse job listings from Indeed\n",
    "def parse_job_listings(html_content_list):\n",
    "    jobs = []\n",
    "    for content in html_content_list:\n",
    "        soup = BeautifulSoup(content, 'html.parser')\n",
    "        job_cards = soup.find_all('div', class_='job_seen_beacon')\n",
    "        for job in job_cards:\n",
    "            title = job.find('h2', class_='jobTitle').text.strip() if job.find('h2', class_='jobTitle') else 'No title'\n",
    "            company = job.find('div', class_='css-1qv0295 e37uo190').text.strip() if job.find('div', class_='css-1qv0295 e37uo190') else 'No company'\n",
    "            location = job.find('div', class_='css-1p0sjhy eu4oa1w0').text.strip() if job.find('div', class_='css-1p0sjhy eu4oa1w0') else 'No location'\n",
    "            jobs.append({'title': title, 'company': company, 'location': location})\n",
    "    return jobs\n",
    "\n",
    "# Fetch job listings from Indeed\n",
    "url_indeed = 'https://www.indeed.com/jobs?q=data+scientist&l=New+York%2C+NY&start=0'\n",
    "html_content_list_indeed = fetch_job_listings(url_indeed)\n",
    "\n",
    "# Parse job listings from Indeed\n",
    "if html_content_list_indeed:\n",
    "    jobs_indeed = parse_job_listings(html_content_list_indeed)\n",
    "\n",
    "    # Create a DataFrame and save to CSV\n",
    "    df_indeed = pd.DataFrame(jobs_indeed)\n",
    "    df_indeed.to_csv('job_listings_indeed.csv', index=False)\n",
    "    print(df_indeed.head())\n",
    "else:\n",
    "    print('Failed to fetch HTML content from Indeed.')\n",
    "\n"
   ]
  },
  {
   "cell_type": "markdown",
   "id": "c6d4aaac-00b7-4890-b243-b7e34e83e4d2",
   "metadata": {},
   "source": [
    "#### Dataset 2 (Adzuna.com using an API) "
   ]
  },
  {
   "cell_type": "code",
   "execution_count": 19,
   "id": "49841f96-c36d-4a9b-b74f-46238b5ab121",
   "metadata": {},
   "outputs": [
    {
     "name": "stdout",
     "output_type": "stream",
     "text": [
      "                                               title           company  \\\n",
      "0                                     Data Scientist       Robert Half   \n",
      "1                                     Data Scientist       Robert Half   \n",
      "2                                     Data Scientist  City of New York   \n",
      "3             Games Data Scientist, AGS Data Science            Amazon   \n",
      "4  Manager, Data Scientist - Commercial Banking D...       Capital One   \n",
      "\n",
      "                   location  \\\n",
      "0  Grand Central, Manhattan   \n",
      "1  Grand Central, Manhattan   \n",
      "2  Grand Central, Manhattan   \n",
      "3  Grand Central, Manhattan   \n",
      "4  Grand Central, Manhattan   \n",
      "\n",
      "                                         description  \\\n",
      "0  Description We are offering an exciting opport...   \n",
      "1  Description We are in the market for a skilled...   \n",
      "2  Job Description Transportation Planning and Ma...   \n",
      "3  Description Amazon is all-in on games, and our...   \n",
      "4  11 West 19th Street (22008), United States of ...   \n",
      "\n",
      "                                                 url  \n",
      "0  https://www.adzuna.com/details/4755388135?utm_...  \n",
      "1  https://www.adzuna.com/details/4755387950?utm_...  \n",
      "2  https://www.adzuna.com/details/4566397277?utm_...  \n",
      "3  https://www.adzuna.com/details/4748898511?utm_...  \n",
      "4  https://www.adzuna.com/details/4699103273?utm_...  \n"
     ]
    }
   ],
   "source": [
    "# Function to fetch job listings from Adzuna using an API\n",
    "def fetch_job_listings_adzuna(app_id, api_key, location, job_title):\n",
    "    url = f\"https://api.adzuna.com/v1/api/jobs/us/search/1\"\n",
    "    params = {\n",
    "        'app_id': app_id,\n",
    "        'app_key': api_key,\n",
    "        'results_per_page': 50,\n",
    "        'what': job_title,\n",
    "        'where': location\n",
    "    }\n",
    "    response = requests.get(url, params=params)\n",
    "    if response.status_code == 200:\n",
    "        return response.json()\n",
    "    else:\n",
    "        print(f\"Failed to retrieve job listings: {response.status_code}\")\n",
    "        return None\n",
    "\n",
    "# Parse job listings from Adzuna API response\n",
    "def parse_job_listings_adzuna(response_json):\n",
    "    jobs = []\n",
    "    if response_json:\n",
    "        for job in response_json['results']:\n",
    "            title = job.get('title', 'No title')\n",
    "            company = job.get('company', {}).get('display_name', 'No company')\n",
    "            location = job.get('location', {}).get('display_name', 'No location')\n",
    "            description = job.get('description', 'No description')\n",
    "            url = job.get('redirect_url', 'No URL')\n",
    "            jobs.append({\n",
    "                'title': title,\n",
    "                'company': company,\n",
    "                'location': location,\n",
    "                'description': description,\n",
    "                'url': url\n",
    "            })\n",
    "    return jobs\n",
    "\n",
    "# Fetch job listings from Adzuna\n",
    "app_id = 'e38e45d5'\n",
    "api_key = '1ee0d818340f6ded7818ccf5d9911595'\n",
    "location = 'New York'\n",
    "job_title = 'data scientist'\n",
    "response_json_adzuna = fetch_job_listings_adzuna(app_id, api_key, location, job_title)\n",
    "\n",
    "# Parse job listings from Adzuna\n",
    "jobs_adzuna = parse_job_listings_adzuna(response_json_adzuna)\n",
    "\n",
    "# Create a DataFrame and save to CSV\n",
    "df_adzuna = pd.DataFrame(jobs_adzuna)\n",
    "df_adzuna.to_csv('job_listings_adzuna.csv', index=False)\n",
    "print(df_adzuna.head())\n",
    "\n",
    "# Combine the two DataFrames\n",
    "combined_df = pd.concat([df_indeed, df_adzuna], ignore_index=True)\n",
    "\n",
    "# Save combined DataFrame to CSV\n",
    "combined_df.to_csv('combined_job_listings.csv', index=False)\n"
   ]
  },
  {
   "cell_type": "markdown",
   "id": "bb940257-9f6f-4975-b332-b3b951268def",
   "metadata": {},
   "source": [
    "## 2. Assess data "
   ]
  },
  {
   "cell_type": "markdown",
   "id": "0dc73476-79a0-4e8c-a526-00a04e926c04",
   "metadata": {},
   "source": [
    "### Quality Issue 1: Missing Values\n",
    "\n",
    "\n",
    "**Issue:** There are missing values in the 'description' and 'url' columns.\n",
    "\n",
    "**Assessment Method:** Used isnull().sum() to count the number of missing values in each column.\n",
    "\n",
    "**Justification:** Missing values can lead to incomplete analysis and need to be handled appropriately."
   ]
  },
  {
   "cell_type": "markdown",
   "id": "4283a86a-4f56-4a62-9b41-a118badf267b",
   "metadata": {},
   "source": [
    "### Quality Issue2:"
   ]
  },
  {
   "cell_type": "markdown",
   "id": "789bdb4c-e3a5-49f1-a822-ef8e2b033dd7",
   "metadata": {},
   "source": [
    "### Tidiness Issue 1:  Inconsistent Column Names\n",
    "\n",
    "**Issue:** The column names are not consistent and may contain unnecessary spaces or capitalization differences.\n",
    "\n",
    "**Assessment Method:** Visually inspected the column names using combined_df.columns.\n",
    "\n",
    "**Justification:** Inconsistent column names can lead to errors in data manipulation and analysis."
   ]
  },
  {
   "cell_type": "markdown",
   "id": "16e9c364-da4f-4344-bd12-b6ba5aee145f",
   "metadata": {},
   "source": [
    "### Tidiness Issue 2:  Mixed Data Sources\n",
    "\n",
    "**Issue:** The dataset contains job listings from two different sources (Indeed and Adzuna) with slightly different structures.\n",
    "\n",
    "**Assessment Method:** Visually inspected the combined dataset.\n",
    "\n",
    "**Justification:** Combining data from different sources requires ensuring consistency in the structure and content of the data."
   ]
  },
  {
   "cell_type": "code",
   "execution_count": 20,
   "id": "0dacb7d2-c476-44fb-84ca-14ae34895b2e",
   "metadata": {},
   "outputs": [
    {
     "name": "stdout",
     "output_type": "stream",
     "text": [
      "First few rows of the dataset:\n"
     ]
    },
    {
     "data": {
      "text/html": [
       "<div>\n",
       "<style scoped>\n",
       "    .dataframe tbody tr th:only-of-type {\n",
       "        vertical-align: middle;\n",
       "    }\n",
       "\n",
       "    .dataframe tbody tr th {\n",
       "        vertical-align: top;\n",
       "    }\n",
       "\n",
       "    .dataframe thead th {\n",
       "        text-align: right;\n",
       "    }\n",
       "</style>\n",
       "<table border=\"1\" class=\"dataframe\">\n",
       "  <thead>\n",
       "    <tr style=\"text-align: right;\">\n",
       "      <th></th>\n",
       "      <th>title</th>\n",
       "      <th>company</th>\n",
       "      <th>location</th>\n",
       "      <th>description</th>\n",
       "      <th>url</th>\n",
       "    </tr>\n",
       "  </thead>\n",
       "  <tbody>\n",
       "    <tr>\n",
       "      <th>0</th>\n",
       "      <td>Data Scientist, Amazon Ads</td>\n",
       "      <td>Amazon.com Services LLC</td>\n",
       "      <td>New York, NY</td>\n",
       "      <td>NaN</td>\n",
       "      <td>NaN</td>\n",
       "    </tr>\n",
       "    <tr>\n",
       "      <th>1</th>\n",
       "      <td>Data Scientist, Llama Scalability</td>\n",
       "      <td>Meta</td>\n",
       "      <td>New York, NY</td>\n",
       "      <td>NaN</td>\n",
       "      <td>NaN</td>\n",
       "    </tr>\n",
       "    <tr>\n",
       "      <th>2</th>\n",
       "      <td>Data Scientist - Marketing Mix Models</td>\n",
       "      <td>Verizon</td>\n",
       "      <td>Hybrid work in New York, NY</td>\n",
       "      <td>NaN</td>\n",
       "      <td>NaN</td>\n",
       "    </tr>\n",
       "    <tr>\n",
       "      <th>3</th>\n",
       "      <td>Staff Data Scientist</td>\n",
       "      <td>Warner Bros. Discovery</td>\n",
       "      <td>New York, NY 10001 (Chelsea area)</td>\n",
       "      <td>NaN</td>\n",
       "      <td>NaN</td>\n",
       "    </tr>\n",
       "    <tr>\n",
       "      <th>4</th>\n",
       "      <td>Senior Data Scientist</td>\n",
       "      <td>Metropolitan Transportation Authority</td>\n",
       "      <td>New York, NY 10004 (Financial District area)</td>\n",
       "      <td>NaN</td>\n",
       "      <td>NaN</td>\n",
       "    </tr>\n",
       "  </tbody>\n",
       "</table>\n",
       "</div>"
      ],
      "text/plain": [
       "                                   title  \\\n",
       "0             Data Scientist, Amazon Ads   \n",
       "1      Data Scientist, Llama Scalability   \n",
       "2  Data Scientist - Marketing Mix Models   \n",
       "3                   Staff Data Scientist   \n",
       "4                  Senior Data Scientist   \n",
       "\n",
       "                                 company  \\\n",
       "0                Amazon.com Services LLC   \n",
       "1                                   Meta   \n",
       "2                                Verizon   \n",
       "3                 Warner Bros. Discovery   \n",
       "4  Metropolitan Transportation Authority   \n",
       "\n",
       "                                       location description  url  \n",
       "0                                  New York, NY         NaN  NaN  \n",
       "1                                  New York, NY         NaN  NaN  \n",
       "2                   Hybrid work in New York, NY         NaN  NaN  \n",
       "3             New York, NY 10001 (Chelsea area)         NaN  NaN  \n",
       "4  New York, NY 10004 (Financial District area)         NaN  NaN  "
      ]
     },
     "metadata": {},
     "output_type": "display_data"
    }
   ],
   "source": [
    "\n",
    "# Assess Data Quality and Tidiness\n",
    "\n",
    "\n",
    "# Load the combined dataset\n",
    "combined_df = pd.read_csv('combined_job_listings.csv')\n",
    "\n",
    "# Display the first few rows of the dataset\n",
    "print(\"First few rows of the dataset:\")\n",
    "display(combined_df.head())"
   ]
  },
  {
   "cell_type": "code",
   "execution_count": 21,
   "id": "46a3b8c6-1bbf-4c6e-ad7a-ce80bb0b2c28",
   "metadata": {},
   "outputs": [
    {
     "name": "stdout",
     "output_type": "stream",
     "text": [
      "Summary statistics of the dataset:\n"
     ]
    },
    {
     "data": {
      "text/html": [
       "<div>\n",
       "<style scoped>\n",
       "    .dataframe tbody tr th:only-of-type {\n",
       "        vertical-align: middle;\n",
       "    }\n",
       "\n",
       "    .dataframe tbody tr th {\n",
       "        vertical-align: top;\n",
       "    }\n",
       "\n",
       "    .dataframe thead th {\n",
       "        text-align: right;\n",
       "    }\n",
       "</style>\n",
       "<table border=\"1\" class=\"dataframe\">\n",
       "  <thead>\n",
       "    <tr style=\"text-align: right;\">\n",
       "      <th></th>\n",
       "      <th>title</th>\n",
       "      <th>company</th>\n",
       "      <th>location</th>\n",
       "      <th>description</th>\n",
       "      <th>url</th>\n",
       "    </tr>\n",
       "  </thead>\n",
       "  <tbody>\n",
       "    <tr>\n",
       "      <th>count</th>\n",
       "      <td>257</td>\n",
       "      <td>257</td>\n",
       "      <td>257</td>\n",
       "      <td>50</td>\n",
       "      <td>50</td>\n",
       "    </tr>\n",
       "    <tr>\n",
       "      <th>unique</th>\n",
       "      <td>201</td>\n",
       "      <td>139</td>\n",
       "      <td>53</td>\n",
       "      <td>45</td>\n",
       "      <td>50</td>\n",
       "    </tr>\n",
       "    <tr>\n",
       "      <th>top</th>\n",
       "      <td>Data Scientist</td>\n",
       "      <td>Google</td>\n",
       "      <td>New York, NY</td>\n",
       "      <td>WHY PATIENTS NEED YOU Pfizer's purpose is to d...</td>\n",
       "      <td>https://www.adzuna.com/details/4755388135?utm_...</td>\n",
       "    </tr>\n",
       "    <tr>\n",
       "      <th>freq</th>\n",
       "      <td>32</td>\n",
       "      <td>12</td>\n",
       "      <td>71</td>\n",
       "      <td>3</td>\n",
       "      <td>1</td>\n",
       "    </tr>\n",
       "  </tbody>\n",
       "</table>\n",
       "</div>"
      ],
      "text/plain": [
       "                 title company      location  \\\n",
       "count              257     257           257   \n",
       "unique             201     139            53   \n",
       "top     Data Scientist  Google  New York, NY   \n",
       "freq                32      12            71   \n",
       "\n",
       "                                              description  \\\n",
       "count                                                  50   \n",
       "unique                                                 45   \n",
       "top     WHY PATIENTS NEED YOU Pfizer's purpose is to d...   \n",
       "freq                                                    3   \n",
       "\n",
       "                                                      url  \n",
       "count                                                  50  \n",
       "unique                                                 50  \n",
       "top     https://www.adzuna.com/details/4755388135?utm_...  \n",
       "freq                                                    1  "
      ]
     },
     "metadata": {},
     "output_type": "display_data"
    },
    {
     "name": "stdout",
     "output_type": "stream",
     "text": [
      "Information about the dataset:\n",
      "<class 'pandas.core.frame.DataFrame'>\n",
      "RangeIndex: 257 entries, 0 to 256\n",
      "Data columns (total 5 columns):\n",
      " #   Column       Non-Null Count  Dtype \n",
      "---  ------       --------------  ----- \n",
      " 0   title        257 non-null    object\n",
      " 1   company      257 non-null    object\n",
      " 2   location     257 non-null    object\n",
      " 3   description  50 non-null     object\n",
      " 4   url          50 non-null     object\n",
      "dtypes: object(5)\n",
      "memory usage: 10.2+ KB\n"
     ]
    },
    {
     "data": {
      "text/plain": [
       "None"
      ]
     },
     "metadata": {},
     "output_type": "display_data"
    }
   ],
   "source": [
    "\n",
    "# Display summary statistics of the dataset\n",
    "print(\"Summary statistics of the dataset:\")\n",
    "display(combined_df.describe())\n",
    "\n",
    "# Display information about the dataset\n",
    "print(\"Information about the dataset:\")\n",
    "display(combined_df.info())"
   ]
  },
  {
   "cell_type": "code",
   "execution_count": 22,
   "id": "70b65acf-0dba-46a6-9508-73d682773cf0",
   "metadata": {},
   "outputs": [
    {
     "name": "stdout",
     "output_type": "stream",
     "text": [
      "Missing values in the dataset:\n"
     ]
    },
    {
     "data": {
      "text/plain": [
       "title            0\n",
       "company          0\n",
       "location         0\n",
       "description    207\n",
       "url            207\n",
       "dtype: int64"
      ]
     },
     "metadata": {},
     "output_type": "display_data"
    }
   ],
   "source": [
    "\n",
    "# Check for missing values\n",
    "print(\"Missing values in the dataset:\")\n",
    "display(combined_df.isnull().sum())\n"
   ]
  },
  {
   "cell_type": "code",
   "execution_count": 23,
   "id": "f696c536-3866-437a-886e-6dba11393b9f",
   "metadata": {},
   "outputs": [
    {
     "name": "stdout",
     "output_type": "stream",
     "text": [
      "Duplicate entries in the dataset:\n"
     ]
    },
    {
     "data": {
      "text/plain": [
       "1"
      ]
     },
     "metadata": {},
     "output_type": "display_data"
    },
    {
     "name": "stdout",
     "output_type": "stream",
     "text": [
      "Distribution of job titles:\n"
     ]
    },
    {
     "data": {
      "text/plain": [
       "title\n",
       "Data Scientist                                                                  32\n",
       "Senior Data Scientist                                                            6\n",
       "Manager, Clinical Data Scientist, Clinical Data Sciences                         3\n",
       "Staff Data Scientist                                                             3\n",
       "Data Science Manager                                                             3\n",
       "                                                                                ..\n",
       "Customer Engineer, AI/ML, Google Cloud                                           1\n",
       "Director - Finance Data Science & Analytics                                      1\n",
       "Cybersecurity and Data Privacy Associates (NY, DC, SV) - Junior to Mid level     1\n",
       "Product Specialist                                                               1\n",
       "Staff Data Scientist - Data Science                                              1\n",
       "Name: count, Length: 201, dtype: int64"
      ]
     },
     "metadata": {},
     "output_type": "display_data"
    },
    {
     "name": "stdout",
     "output_type": "stream",
     "text": [
      "Distribution of companies:\n"
     ]
    },
    {
     "data": {
      "text/plain": [
       "company\n",
       "Google                           12\n",
       "JPMorgan Chase & Co              11\n",
       "Capital One                      10\n",
       "Amazon.com Services LLC           9\n",
       "Amazon Web Services, Inc.         8\n",
       "                                 ..\n",
       "Transatlantic Reinsurance Co.     1\n",
       "CB Insights                       1\n",
       "Wells Fargo                       1\n",
       "Spotify                           1\n",
       "TripleLift                        1\n",
       "Name: count, Length: 139, dtype: int64"
      ]
     },
     "metadata": {},
     "output_type": "display_data"
    }
   ],
   "source": [
    "\n",
    "# Check for duplicate entries\n",
    "print(\"Duplicate entries in the dataset:\")\n",
    "display(combined_df.duplicated().sum())\n",
    "# Check the distribution of job titles\n",
    "print(\"Distribution of job titles:\")\n",
    "display(combined_df['title'].value_counts())\n",
    "\n",
    "\n",
    "# Check the distribution of companies\n",
    "print(\"Distribution of companies:\")\n",
    "display(combined_df['company'].value_counts())\n"
   ]
  },
  {
   "cell_type": "markdown",
   "id": "9e8fd69c-67bd-4e20-bf9d-543395a653a0",
   "metadata": {},
   "source": [
    "## 3. Clean data"
   ]
  },
  {
   "cell_type": "code",
   "execution_count": 24,
   "id": "85961484-bae2-4630-ba02-26149488be25",
   "metadata": {},
   "outputs": [
    {
     "name": "stdout",
     "output_type": "stream",
     "text": [
      "Missing values before cleaning:\n",
      "title            0\n",
      "company          0\n",
      "location         0\n",
      "description    207\n",
      "url            207\n",
      "dtype: int64\n",
      "Missing values after cleaning:\n",
      "title          0\n",
      "company        0\n",
      "location       0\n",
      "description    0\n",
      "url            0\n",
      "dtype: int64\n"
     ]
    }
   ],
   "source": [
    "# 1. Handling Missing Values\n",
    "\n",
    "print(\"Missing values before cleaning:\")\n",
    "print(combined_df.isnull().sum())\n",
    "\n",
    "combined_df_cleaned = combined_df.dropna(subset=['description', 'url'])\n",
    "\n",
    "print(\"Missing values after cleaning:\")\n",
    "print(combined_df_cleaned.isnull().sum())"
   ]
  },
  {
   "cell_type": "code",
   "execution_count": 25,
   "id": "0785d6b1-7051-426f-a553-081679ee8edf",
   "metadata": {},
   "outputs": [
    {
     "name": "stdout",
     "output_type": "stream",
     "text": [
      "Duplicate entries before cleaning:\n",
      "0\n",
      "Duplicate entries after cleaning:\n",
      "0\n"
     ]
    }
   ],
   "source": [
    "# 2. Removing Duplicate Entries\n",
    "\n",
    "print(\"Duplicate entries before cleaning:\")\n",
    "print(combined_df_cleaned.duplicated().sum())\n",
    "\n",
    "combined_df_cleaned = combined_df_cleaned.drop_duplicates()\n",
    "\n",
    "print(\"Duplicate entries after cleaning:\")\n",
    "print(combined_df_cleaned.duplicated().sum())"
   ]
  },
  {
   "cell_type": "code",
   "execution_count": 26,
   "id": "8ee703cf-503e-4912-8270-0ed1b7f93662",
   "metadata": {},
   "outputs": [
    {
     "name": "stdout",
     "output_type": "stream",
     "text": [
      "Column names after cleaning:\n",
      "Index(['title', 'company', 'location', 'description', 'url'], dtype='object')\n"
     ]
    }
   ],
   "source": [
    "# 3. Inconsistent Column Names\n",
    "\n",
    "combined_df_cleaned.columns = combined_df_cleaned.columns.str.lower().str.replace(' ', '_')\n",
    "\n",
    "print(\"Column names after cleaning:\")\n",
    "print(combined_df_cleaned.columns)"
   ]
  },
  {
   "cell_type": "code",
   "execution_count": 27,
   "id": "834ce9c1-28dc-40d7-93cb-3425a5703c49",
   "metadata": {},
   "outputs": [],
   "source": [
    "# 4. Mixed Data Sources\n",
    "# I assume all columns are necessary for the analysis\n"
   ]
  },
  {
   "cell_type": "code",
   "execution_count": 28,
   "id": "2edb7b24-0225-4e50-8f41-85a80812b6a2",
   "metadata": {},
   "outputs": [
    {
     "name": "stdout",
     "output_type": "stream",
     "text": [
      "First few rows of the cleaned dataset:\n",
      "                                                 title           company  \\\n",
      "207                                     Data Scientist       Robert Half   \n",
      "208                                     Data Scientist       Robert Half   \n",
      "209                                     Data Scientist  City of New York   \n",
      "210             Games Data Scientist, AGS Data Science            Amazon   \n",
      "211  Manager, Data Scientist - Commercial Banking D...       Capital One   \n",
      "\n",
      "                     location  \\\n",
      "207  Grand Central, Manhattan   \n",
      "208  Grand Central, Manhattan   \n",
      "209  Grand Central, Manhattan   \n",
      "210  Grand Central, Manhattan   \n",
      "211  Grand Central, Manhattan   \n",
      "\n",
      "                                           description  \\\n",
      "207  Description We are offering an exciting opport...   \n",
      "208  Description We are in the market for a skilled...   \n",
      "209  Job Description Transportation Planning and Ma...   \n",
      "210  Description Amazon is all-in on games, and our...   \n",
      "211  11 West 19th Street (22008), United States of ...   \n",
      "\n",
      "                                                   url  \n",
      "207  https://www.adzuna.com/details/4755388135?utm_...  \n",
      "208  https://www.adzuna.com/details/4755387950?utm_...  \n",
      "209  https://www.adzuna.com/details/4566397277?utm_...  \n",
      "210  https://www.adzuna.com/details/4748898511?utm_...  \n",
      "211  https://www.adzuna.com/details/4699103273?utm_...  \n"
     ]
    }
   ],
   "source": [
    "# Save the cleaned dataset to CSV\n",
    "combined_df_cleaned.to_csv('cleaned_job_listings.csv', index=False)\n",
    "\n",
    "print(\"First few rows of the cleaned dataset:\")\n",
    "print(combined_df_cleaned.head())\n"
   ]
  },
  {
   "cell_type": "markdown",
   "id": "e062207d-81b9-4731-8a1f-3a9cb917af11",
   "metadata": {},
   "source": [
    "## 4. Update your data store"
   ]
  },
  {
   "cell_type": "code",
   "execution_count": 29,
   "id": "4706e267-7a3e-4a15-9b74-8f5e246c0683",
   "metadata": {},
   "outputs": [
    {
     "name": "stdout",
     "output_type": "stream",
     "text": [
      "Raw data saved to combined_job_listings.csv\n",
      "Cleaned data saved to cleaned_job_listings.csv\n"
     ]
    }
   ],
   "source": [
    "# Save the raw and cleaned datasets with informative names\n",
    "raw_dataset_path = 'combined_job_listings.csv'\n",
    "cleaned_dataset_path = 'cleaned_job_listings.csv'\n",
    "\n",
    "# Ensuring both raw and cleaned data are saved\n",
    "combined_df.to_csv(raw_dataset_path, index=False)\n",
    "combined_df_cleaned.to_csv(cleaned_dataset_path, index=False)\n",
    "\n",
    "print(f\"Raw data saved to {raw_dataset_path}\")\n",
    "print(f\"Cleaned data saved to {cleaned_dataset_path}\")\n",
    "\n",
    "# Maintain different instances/versions of data\n",
    "# Raw data: combined_job_listings.csv\n",
    "# Cleaned data: cleaned_job_listings.csv"
   ]
  },
  {
   "cell_type": "markdown",
   "id": "d4c60e63-02e2-47b8-a860-f282dd6bfcf4",
   "metadata": {},
   "source": [
    "## 5. Answer the research question"
   ]
  },
  {
   "cell_type": "markdown",
   "id": "56614c34-fa22-4e40-abe3-62bfb189c6c4",
   "metadata": {},
   "source": [
    " ### Research question :\n",
    " **What are the top companies and locations for Data Scientist job listings in New York?**\n"
   ]
  },
  {
   "cell_type": "code",
   "execution_count": 30,
   "id": "9b01e7ee-e19e-4629-ab6c-df77b5f7bb8d",
   "metadata": {},
   "outputs": [
    {
     "data": {
      "image/png": "[encoded data removed]",
      "text/plain": [
       "<Figure size 640x480 with 1 Axes>"
      ]
     },
     "metadata": {},
     "output_type": "display_data"
    }
   ],
   "source": [
    "# Visual 1: Top Companies Hiring for Data Scientists\n",
    "top_companies.plot(kind='bar', color='skyblue')\n",
    "plt.title('Top Companies Hiring for Data Scientists')\n",
    "plt.xlabel('Company')\n",
    "plt.ylabel('Number of Job Listings')\n",
    "plt.xticks(rotation=45)\n",
    "plt.show()"
   ]
  },
  {
   "cell_type": "markdown",
   "id": "e6c36633-88c5-4f0b-b9cd-f4a00394d4d2",
   "metadata": {},
   "source": [
    "#### Google leads with the highest number of job listings for data scientists, followed by JPMorgan Chase & Co and Amazon.com Services LLC. This indicates that tech giants and financial institutions are heavily investing in data science talent.\n"
   ]
  },
  {
   "cell_type": "code",
   "execution_count": 31,
   "id": "90cd48ab-2909-43e2-b7c7-3e6c9797898e",
   "metadata": {},
   "outputs": [
    {
     "data": {
      "image/png": "[encoded data removed]",
      "text/plain": [
       "<Figure size 640x480 with 1 Axes>"
      ]
     },
     "metadata": {},
     "output_type": "display_data"
    }
   ],
   "source": [
    "# Visual 2: Job Listings by Location\n",
    "job_locations.plot(kind='bar', color='lightgreen')\n",
    "plt.title('Job Listings by Location')\n",
    "plt.xlabel('Location')\n",
    "plt.ylabel('Number of Job Listings')\n",
    "plt.xticks(rotation=45)\n",
    "plt.show()"
   ]
  },
  {
   "cell_type": "markdown",
   "id": "894be37e-940f-4cd9-95f0-104cde02c47c",
   "metadata": {},
   "source": [
    "#### New York, NY, stands out as the primary location with the highest number of job listings, followed by hybrid work arrangements and Grand Central, Manhattan. This highlights that the majority of data scientist positions are concentrated in central New York City, with significant opportunities also available for hybrid working models."
   ]
  },
  {
   "cell_type": "markdown",
   "id": "24dcdd71-7111-48fe-b73d-1b6a48fe4e24",
   "metadata": {},
   "source": [
    "### **5.2:** Reflection"
   ]
  },
  {
   "cell_type": "markdown",
   "id": "69755589-d263-4087-9c89-ea77d0f5cf0c",
   "metadata": {},
   "source": [
    "##### Next steps:\n",
    "1. Enhance data gathering by including more job portals.\n",
    "2. Perform more detailed analysis on job descriptions to identify required skills and experience."
   ]
  }
 ],
 "metadata": {
  "kernelspec": {
   "display_name": "Python 3 (ipykernel)",
   "language": "python",
   "name": "python3"
  },
  "language_info": {
   "codemirror_mode": {
    "name": "ipython",
    "version": 3
   },
   "file_extension": ".py",
   "mimetype": "text/x-python",
   "name": "python",
   "nbconvert_exporter": "python",
   "pygments_lexer": "ipython3",
   "version": "3.11.7"
  }
 },
 "nbformat": 4,
 "nbformat_minor": 5
}
